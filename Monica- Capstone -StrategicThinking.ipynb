{
 "cells": [
  {
   "cell_type": "markdown",
   "id": "695df8bd-dc31-4659-bf31-aaf53bd6231f",
   "metadata": {},
   "source": [
    "# Project Overview\n",
    "\n",
    "This project explores the strategic implications of fuel prices in Brazil using data from the National Agency of Petroleum, Natural Gas and Biofuels (ANP). Fuel price fluctuations directly impact transportation, logistics, and consumer costs, making it essential for policymakers and businesses to understand their trends and regional disparities.\n",
    "\n",
    "The primary goal is to develop predictive machine learning models capable of forecasting average fuel prices based on historical trends and contextual variables such as region, fuel type, and economic indicators. This analysis supports strategic decision-making, enabling stakeholders to anticipate price changes and design better pricing policies or subsidy programs.\n",
    "\n",
    "By applying data science techniques, including exploratory data analysis, feature engineering, and supervised learning algorithms, this project aims to:\n",
    "\n",
    "- Identify regional and temporal patterns in fuel prices;\n",
    "- Evaluate and compare machine learning models for price prediction;\n",
    "- Provide data-driven insights and strategic recommendations;\n",
    "- Highlight potential challenges in the Brazilian fuel market.\n",
    "\n",
    "This project is part of the Strategic Thinking module at CCT College Dublin and integrates technical, business, and policy-driven perspectives."
   ]
  },
  {
   "cell_type": "markdown",
   "id": "7f985112-4617-426a-9874-9b231785408d",
   "metadata": {},
   "source": [
    "# Project Plan and Timeline\n",
    "\n",
    "To ensure a structured approach, the project followed a defined plan with clearly segmented phases. Each phase included specific goals and deliverables, from data understanding to machine learning implementation and final reporting.\n",
    "\n",
    "| Phase                        | Description                                                         | Timeline      |\n",
    "|-----------------------------|----------------------------------------------------------------------|---------------|\n",
    "| 1. Problem Definition       | Define business objective, research question, and hypotheses         | Week 1        |\n",
    "| 2. Data Understanding       | Load, inspect, clean, and describe the dataset                       | Week 1-2      |\n",
    "| 3. Exploratory Data Analysis (EDA) | Perform descriptive statistics and visualize key patterns         | Week 2-3      |\n",
    "| 4. Feature Engineering      | Create new variables, encode categoricals, handle dates              | Week 3        |\n",
    "| 5. Model Development        | Implement machine learning models (Linear, RF, MLP)                  | Week 4-5      |\n",
    "| 6. Hyperparameter Tuning    | Optimize models using GridSearchCV with cross-validation             | Week 5-6      |\n",
    "| 7. Results Evaluation       | Compare model metrics, generate strategic insights                   | Week 6        |\n",
    "| 8. Documentation            | Finalize notebook, write report, create poster, and prepare GitHub   | Week 7        |\n",
    "\n",
    "This timeline allowed for gradual development while ensuring room for iteration, model refinement, and integration of strategic insights.\n"
   ]
  },
  {
   "cell_type": "code",
   "execution_count": null,
   "id": "923ea795-d594-4383-9a47-b5be2bd3b257",
   "metadata": {},
   "outputs": [],
   "source": []
  }
 ],
 "metadata": {
  "kernelspec": {
   "display_name": "Python 3 (ipykernel)",
   "language": "python",
   "name": "python3"
  },
  "language_info": {
   "codemirror_mode": {
    "name": "ipython",
    "version": 3
   },
   "file_extension": ".py",
   "mimetype": "text/x-python",
   "name": "python",
   "nbconvert_exporter": "python",
   "pygments_lexer": "ipython3",
   "version": "3.12.3"
  }
 },
 "nbformat": 4,
 "nbformat_minor": 5
}
